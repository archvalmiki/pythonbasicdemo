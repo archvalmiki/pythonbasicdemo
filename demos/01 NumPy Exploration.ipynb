{
 "cells": [
  {
   "cell_type": "markdown",
   "metadata": {
    "slideshow": {
     "slide_type": "slide"
    }
   },
   "source": [
    "## NumPY\n",
    "Why Numpy?  Because it is fast!  Faster than native Python lists (also used for arrays).\n",
    "Great for linear matrices, linear algebra."
   ]
  },
  {
   "cell_type": "code",
   "execution_count": null,
   "metadata": {
    "slideshow": {
     "slide_type": "subslide"
    }
   },
   "outputs": [],
   "source": [
    "import numpy as np\n",
    "numarray = np.array([34,45,7,123,99])\n",
    "numarray"
   ]
  },
  {
   "cell_type": "code",
   "execution_count": null,
   "metadata": {
    "slideshow": {
     "slide_type": "subslide"
    }
   },
   "outputs": [],
   "source": [
    "print(numarray)"
   ]
  },
  {
   "cell_type": "markdown",
   "metadata": {
    "slideshow": {
     "slide_type": "slide"
    }
   },
   "source": [
    "### ndarray and dimensionality"
   ]
  },
  {
   "cell_type": "code",
   "execution_count": null,
   "metadata": {
    "slideshow": {
     "slide_type": "fragment"
    }
   },
   "outputs": [],
   "source": [
    "a0 = np.array(8)\n",
    "print(a0) #get quick print representation\n",
    "print(a0.shape) #The shape\n",
    "print(a0.ndim) #number of dimensions"
   ]
  },
  {
   "cell_type": "code",
   "execution_count": null,
   "metadata": {
    "slideshow": {
     "slide_type": "fragment"
    }
   },
   "outputs": [],
   "source": [
    "a1 = np.array([11,12,13,14,15,16,17,18])\n",
    "print(a1)\n",
    "print(a1.shape)\n",
    "print(a1.ndim)\n",
    "print(a1[1],a1[0]) #array indexing\n",
    "print(a1[0:2]) #array slicing"
   ]
  },
  {
   "cell_type": "code",
   "execution_count": null,
   "metadata": {},
   "outputs": [],
   "source": [
    "#reshaping a1 as a11\n",
    "a11 = a1.reshape(2,4)\n",
    "print(a11.shape)\n",
    "print(a11.ndim)\n",
    "print(a11[1],a11[0]) #array indexing\n",
    "print(a11[0:2]) #array slicing"
   ]
  },
  {
   "cell_type": "code",
   "execution_count": null,
   "metadata": {
    "slideshow": {
     "slide_type": "fragment"
    }
   },
   "outputs": [],
   "source": [
    "a2 = np.array([[11,12,13],[44,55,66]])\n",
    "print(a2)\n",
    "print(a2.shape)\n",
    "print(a2.ndim)\n",
    "print(a2[0,1])\n",
    "print(a2[0:2,2:3])"
   ]
  },
  {
   "cell_type": "code",
   "execution_count": null,
   "metadata": {
    "slideshow": {
     "slide_type": "fragment"
    }
   },
   "outputs": [],
   "source": [
    "a3 = np.array([[[11,12,13],[44,55,66]],[[1,2,3],[4,5,6]]])\n",
    "print(a3)\n",
    "print(a3.shape)\n",
    "print(a3.ndim)\n",
    "print(a3[1,1,2])"
   ]
  }
 ],
 "metadata": {
  "kernelspec": {
   "display_name": "Python 3",
   "language": "python",
   "name": "python3"
  },
  "language_info": {
   "codemirror_mode": {
    "name": "ipython",
    "version": 3
   },
   "file_extension": ".py",
   "mimetype": "text/x-python",
   "name": "python",
   "nbconvert_exporter": "python",
   "pygments_lexer": "ipython3",
   "version": "3.7.4"
  }
 },
 "nbformat": 4,
 "nbformat_minor": 2
}
